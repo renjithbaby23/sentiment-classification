{
 "cells": [
  {
   "cell_type": "markdown",
   "metadata": {},
   "source": [
    "## The training setup used\n",
    "\n",
    " - Dependancies are listed in `requirements.txt`\n",
    " - For inference on custom data see `predict_on_custom_data.ipynb`\n",
    " - Pretrained model is available at [model file](https://drive.google.com/file/d/1zQ0WQ8IugTYGKh5rriCxj_FLusXFuZI4/view?usp=sharing)"
   ]
  },
  {
   "cell_type": "code",
   "execution_count": 2,
   "metadata": {},
   "outputs": [],
   "source": [
    "import os\n",
    "import shutil\n",
    "import numpy as np\n",
    "import tensorflow as tf\n",
    "import tensorflow_hub as hub\n",
    "import tensorflow_text as text\n",
    "from official.nlp import optimization\n",
    "\n",
    "import matplotlib.pyplot as plt\n",
    "import nltk\n",
    "from nltk.corpus import stopwords\n",
    "import re\n",
    "import pandas as pd\n",
    "from sklearn.model_selection import train_test_split\n",
    "\n",
    "from sklearn.metrics import confusion_matrix, classification_report, accuracy_score\n",
    "import itertools\n",
    "\n",
    "pd. set_option('display.max_colwidth', None)\n",
    "tf.get_logger().setLevel('ERROR')"
   ]
  },
  {
   "cell_type": "code",
   "execution_count": 3,
   "metadata": {},
   "outputs": [],
   "source": [
    "REMOVE_STOP_WORDS = False\n",
    "APPLY_CUSTOM_CLEANING = False"
   ]
  },
  {
   "cell_type": "code",
   "execution_count": 4,
   "metadata": {},
   "outputs": [],
   "source": [
    "def remove_stopwords(string):\n",
    "    word_list = [word.lower() for word in string.split()]\n",
    "    stopwords_list = list(stopwords.words(\"english\"))\n",
    "    for word in word_list:\n",
    "        if word in stopwords_list:\n",
    "            word_list.remove(word)\n",
    "    return \" \".join(word_list)\n",
    "\n",
    "\n",
    "def clean_text(text):\n",
    "    \"\"\"\n",
    "    make text lowercase, remove text in square brackets,\n",
    "    remove punctuation and remove words containing numbers.\n",
    "    \"\"\"\n",
    "    text = str(text).lower()\n",
    "    text = re.sub(\"\\\\n\", \" \", text)\n",
    "    text = re.sub(r\"https\\s+|www.\\s+\", r\"\", text)\n",
    "    text = re.sub(r\"http\\s+|www.\\s+\", r\"\", text)\n",
    "    text = re.sub(r\"\\’\", \"'\", text)\n",
    "    text = re.sub(r\"won\\'t\", \"will not\", text)\n",
    "    text = re.sub(r\"wont\", \"will not\", text)\n",
    "    text = re.sub(r\"can\\'t\", \"can not\", text)\n",
    "    text = re.sub(r\"cant\", \"can not\", text)\n",
    "    text = re.sub(r\"don\\'t\", \"do not\", text)\n",
    "    text = re.sub(r\"dont\", \"do not\", text)\n",
    "    text = re.sub(r\"n\\’t\", \" not\", text)\n",
    "    text = re.sub(r\"n\\'t\", \" not\", text)\n",
    "    text = re.sub(r\"\\'re\", \" are\", text)\n",
    "    text = re.sub(r\"\\'s\", \" is\", text)\n",
    "    text = re.sub(r\"\\’d\", \" would\", text)\n",
    "    text = re.sub(r\"\\'d\", \" would\", text)\n",
    "    text = re.sub(r\"\\'ll\", \" will\", text)\n",
    "    text = re.sub(r\"\\'t\", \" not\", text)\n",
    "    text = re.sub(r\"\\'ve\", \" have\", text)\n",
    "    text = re.sub(r\"\\'m\", \" am\", text)\n",
    "    text = re.sub(r\"\\n\", \"\", text)\n",
    "    text = re.sub(r\"\\r\", \"\", text)\n",
    "    text = re.sub(r\"\\'\", \"\", text)\n",
    "    text = re.sub(r\"\\\"\", \"\", text)\n",
    "    text = re.sub(r'[?|!|\\'|\"|#]', r\"\", text)\n",
    "    text = re.sub(r\"[.|,|)|(|\\|/]\", r\" \", text)\n",
    "    text = re.sub(r\"[0-9]+\", \"digit\", text)\n",
    "    text = re.sub(r\"\\W\", \" \", text)\n",
    "    text = re.sub(\"\\[.*?\\]\", \"\", text)\n",
    "    text = re.sub(r\"\\s+\", \" \", text)\n",
    "    if REMOVE_STOP_WORDS:\n",
    "        text = remove_stopwords(text)\n",
    "    return text"
   ]
  },
  {
   "cell_type": "code",
   "execution_count": 5,
   "metadata": {},
   "outputs": [],
   "source": [
    "columns = [\"tweet\", \"label\"]\n",
    "\n",
    "train_file = \"./data/apple-twitter-sentiment-texts.csv\"\n",
    "data = pd.read_csv(train_file, names=columns, header=0)\n",
    "\n",
    "class_names = {0: \"neutral\", 1: \"positive\", 2:\"negative\"}\n",
    "label = {0: 0, 1: 1, -1: 2}\n",
    "data[\"label\"] = data[\"label\"].map(label)\n",
    "if APPLY_CUSTOM_CLEANING:\n",
    "    data[\"tweet\"] = data[\"tweet\"].apply(clean_text)\n",
    "data.dropna(inplace=True)"
   ]
  },
  {
   "cell_type": "code",
   "execution_count": 6,
   "metadata": {},
   "outputs": [],
   "source": [
    "X_train, X_test, y_train, y_test = train_test_split(data[\"tweet\"], \n",
    "                                                    data[\"label\"], \n",
    "                                                    random_state=42, \n",
    "                                                    test_size=0.2)"
   ]
  },
  {
   "cell_type": "code",
   "execution_count": 7,
   "metadata": {},
   "outputs": [],
   "source": [
    "train = pd.DataFrame({'tweet':X_train, 'target':y_train})\n",
    "\n",
    "test = pd.DataFrame({'tweet':X_test, 'target':y_test})"
   ]
  },
  {
   "cell_type": "code",
   "execution_count": 2,
   "metadata": {},
   "outputs": [],
   "source": [
    "train.head()"
   ]
  },
  {
   "cell_type": "code",
   "execution_count": null,
   "metadata": {},
   "outputs": [],
   "source": [
    "print(\"Train data distribution: \")\n",
    "train.target.value_counts()"
   ]
  },
  {
   "cell_type": "code",
   "execution_count": null,
   "metadata": {},
   "outputs": [],
   "source": [
    "print(\"Test data distribution: \")\n",
    "train.target.value_counts()"
   ]
  },
  {
   "cell_type": "code",
   "execution_count": 8,
   "metadata": {},
   "outputs": [],
   "source": [
    "AUTOTUNE = tf.data.AUTOTUNE\n",
    "batch_size = 32\n",
    "seed = 42\n",
    "\n",
    "raw_train_ds = tf.data.Dataset.from_tensor_slices((tf.cast(train['tweet'].values, tf.string), \n",
    "                                                   tf.cast(train['target'].values, tf.int32)))\n",
    "\n",
    "train_ds = raw_train_ds.batch(batch_size).cache().prefetch(buffer_size=AUTOTUNE)\n",
    "\n",
    "val_ds = tf.data.Dataset.from_tensor_slices((tf.cast(test['tweet'].values, tf.string), \n",
    "                                                   tf.cast(test['target'].values, tf.int32)))\n",
    "\n",
    "val_ds = val_ds.batch(batch_size).cache().prefetch(buffer_size=AUTOTUNE)\n",
    "\n",
    "test_ds = tf.data.Dataset.from_tensor_slices((tf.cast(test['tweet'].values, tf.string), \n",
    "                                                   tf.cast(test['target'].values, tf.int32)))\n",
    "\n",
    "test_ds = test_ds.batch(batch_size).cache().prefetch(buffer_size=AUTOTUNE)"
   ]
  },
  {
   "cell_type": "code",
   "execution_count": 9,
   "metadata": {},
   "outputs": [
    {
     "name": "stdout",
     "output_type": "stream",
     "text": [
      "Review: b\"RT @Vito_sfam: Hey @apple, the battery of my iPhone drops down like my cock when I see a gay porn on the xvideos' main page. Fix this shit!\"\n",
      "Label : 2 (negative)\n",
      "Review: b'Yo @Apple wtf is wrong with you people? Make it easier to delete contacts already, gosh damn it!!!'\n",
      "Label : 2 (negative)\n",
      "Review: b'RT @JPDesloges: APPLE - Fibonacci Technicals Levels - Intraday  Update - $AAPL #aapl \\r\\nhttp://t.co/t2uV8nZ46v'\n",
      "Label : 0 (neutral)\n",
      "Review: b'MacBook Pro 13in Unboxing: http://t.co/F3IM9YbpxF via @youtube @apple #macbook #macbookpro #startup #hipster #unboxing'\n",
      "Label : 0 (neutral)\n",
      "Review: b\"If you have an iPad 2, DON'T update it to iOS8, it's buggy and slow! #apple @apple\"\n",
      "Label : 2 (negative)\n",
      "Review: b'Here are the top apps for the iPhone according to @apple http://t.co/6gzv72TrNY #technologya'\n",
      "Label : 0 (neutral)\n",
      "Review: b'Do i have to go to @Apple if idr the code? -_-'\n",
      "Label : 0 (neutral)\n",
      "Review: b'@5SOS OMG THIS WOULD ACTUALLY BE A RLLY CUTE EMOJI @apple'\n",
      "Label : 0 (neutral)\n",
      "Review: b'Steve Jobs defends Apple from the grave in iPod lawsuit \\r\\n$AAPL #aapl\\r\\nhttp://t.co/L5rxeW2zKp'\n",
      "Label : 0 (neutral)\n",
      "Review: b'That moment EVERYTIME when walk out of @Apple after purchase &amp; receipt is emailed &amp; think getting stopped or not #MiniHeartAttack @tim_cook'\n",
      "Label : 0 (neutral)\n"
     ]
    }
   ],
   "source": [
    "\n",
    "for text_batch, label_batch in train_ds.take(1):\n",
    "  for i in range(10):\n",
    "    print(f'Review: {text_batch.numpy()[i]}')\n",
    "\n",
    "    label = label_batch.numpy()[i]\n",
    "    print(f'Label : {label} ({class_names[label]})')"
   ]
  },
  {
   "cell_type": "code",
   "execution_count": 10,
   "metadata": {},
   "outputs": [
    {
     "name": "stdout",
     "output_type": "stream",
     "text": [
      "BERT model selected           : https://tfhub.dev/tensorflow/small_bert/bert_en_uncased_L-4_H-512_A-8/1\n",
      "Preprocess model auto-selected: https://tfhub.dev/tensorflow/bert_en_uncased_preprocess/3\n"
     ]
    }
   ],
   "source": [
    "#Choose a BERT model to fine-tune\n",
    "bert_model_name = 'small_bert/bert_en_uncased_L-4_H-512_A-8'  \n",
    "\n",
    "# wanto try a larger model?\n",
    "# bert_model_name = 'bert_en_uncased_L-12_H-768_A-12'\n",
    "\n",
    "map_name_to_handle = {\n",
    "    'bert_en_uncased_L-12_H-768_A-12':\n",
    "        'https://tfhub.dev/tensorflow/bert_en_uncased_L-12_H-768_A-12/3',\n",
    "    'small_bert/bert_en_uncased_L-4_H-512_A-8':\n",
    "        'https://tfhub.dev/tensorflow/small_bert/bert_en_uncased_L-4_H-512_A-8/1'}\n",
    "\n",
    "map_model_to_preprocess = {\n",
    "    'bert_en_uncased_L-12_H-768_A-12':\n",
    "        'https://tfhub.dev/tensorflow/bert_en_uncased_preprocess/3',\n",
    "    'small_bert/bert_en_uncased_L-4_H-512_A-8':\n",
    "        'https://tfhub.dev/tensorflow/bert_en_uncased_preprocess/3'}\n",
    "\n",
    "tfhub_handle_encoder = map_name_to_handle[bert_model_name]\n",
    "tfhub_handle_preprocess = map_model_to_preprocess[bert_model_name]\n",
    "\n",
    "print(f'BERT model selected           : {tfhub_handle_encoder}')\n",
    "print(f'Preprocess model auto-selected: {tfhub_handle_preprocess}')"
   ]
  },
  {
   "cell_type": "code",
   "execution_count": 11,
   "metadata": {},
   "outputs": [],
   "source": [
    "bert_preprocess_model = hub.KerasLayer(tfhub_handle_preprocess)"
   ]
  },
  {
   "cell_type": "code",
   "execution_count": 12,
   "metadata": {},
   "outputs": [
    {
     "name": "stdout",
     "output_type": "stream",
     "text": [
      "Keys       : ['input_word_ids', 'input_mask', 'input_type_ids']\n",
      "Shape      : (1, 128)\n",
      "Word Ids   : [ 101 2023 2003 2107 2019 6429 3185  999  102    0    0    0]\n",
      "Input Mask : [1 1 1 1 1 1 1 1 1 0 0 0]\n",
      "Type Ids   : [0 0 0 0 0 0 0 0 0 0 0 0]\n"
     ]
    }
   ],
   "source": [
    "text_test = ['this is such an amazing movie!']\n",
    "text_preprocessed = bert_preprocess_model(text_test)\n",
    "\n",
    "print(f'Keys       : {list(text_preprocessed.keys())}')\n",
    "print(f'Shape      : {text_preprocessed[\"input_word_ids\"].shape}')\n",
    "print(f'Word Ids   : {text_preprocessed[\"input_word_ids\"][0, :12]}')\n",
    "print(f'Input Mask : {text_preprocessed[\"input_mask\"][0, :12]}')\n",
    "print(f'Type Ids   : {text_preprocessed[\"input_type_ids\"][0, :12]}')"
   ]
  },
  {
   "cell_type": "code",
   "execution_count": 13,
   "metadata": {},
   "outputs": [],
   "source": [
    "bert_model = hub.KerasLayer(tfhub_handle_encoder)"
   ]
  },
  {
   "cell_type": "code",
   "execution_count": 14,
   "metadata": {},
   "outputs": [
    {
     "name": "stdout",
     "output_type": "stream",
     "text": [
      "Loaded BERT: https://tfhub.dev/tensorflow/small_bert/bert_en_uncased_L-4_H-512_A-8/1\n",
      "Pooled Outputs Shape:(1, 512)\n",
      "Pooled Outputs Values:[ 0.76262933  0.99280983 -0.18611841  0.36673838  0.1523371   0.65504414\n",
      "  0.9681154  -0.94862705  0.00216196 -0.9877732   0.06842704 -0.9763059 ]\n",
      "Sequence Outputs Shape:(1, 128, 512)\n",
      "Sequence Outputs Values:[[-0.28946352  0.3432127   0.33231536 ...  0.2130082   0.71020764\n",
      "  -0.05771179]\n",
      " [-0.28742087  0.31981015 -0.2301858  ...  0.5845512  -0.2132979\n",
      "   0.72692066]\n",
      " [-0.66156995  0.688768   -0.8743304  ...  0.10877246 -0.2617323\n",
      "   0.47855377]\n",
      " ...\n",
      " [-0.22561169 -0.2892561  -0.07064427 ...  0.47566015  0.8327705\n",
      "   0.4002538 ]\n",
      " [-0.29824227 -0.2747312  -0.05450515 ...  0.48849764  1.0955355\n",
      "   0.18163416]\n",
      " [-0.44378257  0.00930772  0.07223713 ...  0.17290124  1.1833248\n",
      "   0.07897964]]\n"
     ]
    }
   ],
   "source": [
    "bert_results = bert_model(text_preprocessed)\n",
    "\n",
    "print(f'Loaded BERT: {tfhub_handle_encoder}')\n",
    "print(f'Pooled Outputs Shape:{bert_results[\"pooled_output\"].shape}')\n",
    "print(f'Pooled Outputs Values:{bert_results[\"pooled_output\"][0, :12]}')\n",
    "print(f'Sequence Outputs Shape:{bert_results[\"sequence_output\"].shape}')\n",
    "print(f'Sequence Outputs Values:{bert_results[\"sequence_output\"][0, :12]}')"
   ]
  },
  {
   "cell_type": "code",
   "execution_count": 15,
   "metadata": {},
   "outputs": [],
   "source": [
    "def build_classifier_model():\n",
    "    text_input = tf.keras.layers.Input(shape=(), dtype=tf.string, name='text')\n",
    "    preprocessing_layer = hub.KerasLayer(tfhub_handle_preprocess, name='preprocessing')\n",
    "    encoder_inputs = preprocessing_layer(text_input)\n",
    "    encoder = hub.KerasLayer(tfhub_handle_encoder, trainable=True, name='BERT_encoder')\n",
    "    outputs = encoder(encoder_inputs)\n",
    "    net = outputs['pooled_output']\n",
    "    net = tf.keras.layers.Dropout(0.2)(net)\n",
    "    net = tf.keras.layers.Dense(512, activation='relu', name='dense1')(net)\n",
    "    net = tf.keras.layers.Dropout(0.4)(net)\n",
    "    out = tf.keras.layers.Dense(3, activation='softmax', name='classifier')(net)\n",
    "    return tf.keras.Model(text_input, out)"
   ]
  },
  {
   "cell_type": "code",
   "execution_count": 16,
   "metadata": {},
   "outputs": [],
   "source": [
    "classifier_model = build_classifier_model()"
   ]
  },
  {
   "cell_type": "code",
   "execution_count": 17,
   "metadata": {},
   "outputs": [
    {
     "name": "stdout",
     "output_type": "stream",
     "text": [
      "Model: \"model\"\n",
      "__________________________________________________________________________________________________\n",
      "Layer (type)                    Output Shape         Param #     Connected to                     \n",
      "==================================================================================================\n",
      "text (InputLayer)               [(None,)]            0                                            \n",
      "__________________________________________________________________________________________________\n",
      "preprocessing (KerasLayer)      {'input_type_ids': ( 0           text[0][0]                       \n",
      "__________________________________________________________________________________________________\n",
      "BERT_encoder (KerasLayer)       {'encoder_outputs':  28763649    preprocessing[0][0]              \n",
      "                                                                 preprocessing[0][1]              \n",
      "                                                                 preprocessing[0][2]              \n",
      "__________________________________________________________________________________________________\n",
      "dropout (Dropout)               (None, 512)          0           BERT_encoder[0][5]               \n",
      "__________________________________________________________________________________________________\n",
      "dense1 (Dense)                  (None, 512)          262656      dropout[0][0]                    \n",
      "__________________________________________________________________________________________________\n",
      "dropout_1 (Dropout)             (None, 512)          0           dense1[0][0]                     \n",
      "__________________________________________________________________________________________________\n",
      "classifier (Dense)              (None, 3)            1539        dropout_1[0][0]                  \n",
      "==================================================================================================\n",
      "Total params: 29,027,844\n",
      "Trainable params: 29,027,843\n",
      "Non-trainable params: 1\n",
      "__________________________________________________________________________________________________\n"
     ]
    }
   ],
   "source": [
    "classifier_model.summary()"
   ]
  },
  {
   "cell_type": "code",
   "execution_count": 18,
   "metadata": {},
   "outputs": [],
   "source": [
    "loss = tf.keras.losses.SparseCategoricalCrossentropy()\n",
    "metrics = tf.metrics.CategoricalAccuracy()"
   ]
  },
  {
   "cell_type": "code",
   "execution_count": 19,
   "metadata": {},
   "outputs": [],
   "source": [
    "epochs = 10\n",
    "steps_per_epoch = tf.data.experimental.cardinality(train_ds).numpy()\n",
    "num_train_steps = steps_per_epoch * epochs\n",
    "num_warmup_steps = int(0.1*num_train_steps)\n",
    "\n",
    "init_lr = 3e-5\n",
    "optimizer = optimization.create_optimizer(init_lr=init_lr,\n",
    "                                          num_train_steps=num_train_steps,\n",
    "                                          num_warmup_steps=num_warmup_steps,\n",
    "                                          optimizer_type='adamw')"
   ]
  },
  {
   "cell_type": "code",
   "execution_count": 20,
   "metadata": {},
   "outputs": [],
   "source": [
    "class_weight = {0:1, 1:2, 2:1}"
   ]
  },
  {
   "cell_type": "code",
   "execution_count": 21,
   "metadata": {},
   "outputs": [],
   "source": [
    "classifier_model.compile(optimizer=optimizer,\n",
    "                         loss=loss,\n",
    "                         metrics=metrics)"
   ]
  },
  {
   "cell_type": "code",
   "execution_count": 22,
   "metadata": {},
   "outputs": [
    {
     "name": "stdout",
     "output_type": "stream",
     "text": [
      "Training model with https://tfhub.dev/tensorflow/small_bert/bert_en_uncased_L-4_H-512_A-8/1\n",
      "Epoch 1/10\n",
      "41/41 [==============================] - 104s 2s/step - loss: 1.4113 - categorical_accuracy: 0.3923 - val_loss: 0.6506 - val_categorical_accuracy: 0.5276\n",
      "Epoch 2/10\n",
      "41/41 [==============================] - 95s 2s/step - loss: 0.9619 - categorical_accuracy: 0.5250 - val_loss: 0.5839 - val_categorical_accuracy: 0.5982\n",
      "Epoch 3/10\n",
      "41/41 [==============================] - 95s 2s/step - loss: 0.7931 - categorical_accuracy: 0.5335 - val_loss: 0.5033 - val_categorical_accuracy: 0.5337\n",
      "Epoch 4/10\n",
      "41/41 [==============================] - 96s 2s/step - loss: 0.6419 - categorical_accuracy: 0.5201 - val_loss: 0.4608 - val_categorical_accuracy: 0.5276\n",
      "Epoch 5/10\n",
      "41/41 [==============================] - 95s 2s/step - loss: 0.5080 - categorical_accuracy: 0.5086 - val_loss: 0.4266 - val_categorical_accuracy: 0.5675\n",
      "Epoch 6/10\n",
      "41/41 [==============================] - 97s 2s/step - loss: 0.4028 - categorical_accuracy: 0.5081 - val_loss: 0.4436 - val_categorical_accuracy: 0.5460\n",
      "Epoch 7/10\n",
      "41/41 [==============================] - 97s 2s/step - loss: 0.3550 - categorical_accuracy: 0.5234 - val_loss: 0.4239 - val_categorical_accuracy: 0.5337\n",
      "Epoch 8/10\n",
      "41/41 [==============================] - 97s 2s/step - loss: 0.3220 - categorical_accuracy: 0.5248 - val_loss: 0.4248 - val_categorical_accuracy: 0.5215\n",
      "Epoch 9/10\n",
      "41/41 [==============================] - 101s 2s/step - loss: 0.2797 - categorical_accuracy: 0.5157 - val_loss: 0.4154 - val_categorical_accuracy: 0.5153\n",
      "Epoch 10/10\n",
      "41/41 [==============================] - 96s 2s/step - loss: 0.2642 - categorical_accuracy: 0.5070 - val_loss: 0.4179 - val_categorical_accuracy: 0.5276\n"
     ]
    }
   ],
   "source": [
    "\n",
    "print(f'Training model with {tfhub_handle_encoder}')\n",
    "history = classifier_model.fit(x=train_ds,\n",
    "                               validation_data=val_ds,\n",
    "                               epochs=epochs, \n",
    "                               class_weight=class_weight)"
   ]
  },
  {
   "cell_type": "code",
   "execution_count": 23,
   "metadata": {},
   "outputs": [
    {
     "name": "stdout",
     "output_type": "stream",
     "text": [
      "11/11 [==============================] - 6s 563ms/step - loss: 0.4179 - categorical_accuracy: 0.5276\n",
      "Loss: 0.417915940284729\n",
      "Accuracy: 0.5276073813438416\n"
     ]
    }
   ],
   "source": [
    "loss, accuracy = classifier_model.evaluate(test_ds)\n",
    "\n",
    "print(f'Loss: {loss}')\n",
    "print(f'Accuracy: {accuracy}')"
   ]
  },
  {
   "cell_type": "code",
   "execution_count": 33,
   "metadata": {},
   "outputs": [
    {
     "name": "stdout",
     "output_type": "stream",
     "text": [
      "dict_keys(['loss', 'categorical_accuracy', 'val_loss', 'val_categorical_accuracy'])\n"
     ]
    },
    {
     "data": {
      "text/plain": [
       "<matplotlib.legend.Legend at 0x7f862736b160>"
      ]
     },
     "execution_count": 33,
     "metadata": {},
     "output_type": "execute_result"
    },
    {
     "data": {
      "image/png": "[encoded data removed]",
      "text/plain": [
       "<Figure size 720x432 with 2 Axes>"
      ]
     },
     "metadata": {
      "needs_background": "light"
     },
     "output_type": "display_data"
    }
   ],
   "source": [
    "history_dict = history.history\n",
    "print(history_dict.keys())\n",
    "\n",
    "acc = history_dict['categorical_accuracy']\n",
    "val_acc = history_dict['val_categorical_accuracy']\n",
    "loss = history_dict['loss']\n",
    "val_loss = history_dict['val_loss']\n",
    "\n",
    "epochs = range(1, len(acc) + 1)\n",
    "fig = plt.figure(figsize=(10, 6))\n",
    "fig.tight_layout()\n",
    "\n",
    "plt.subplot(2, 1, 1)\n",
    "# \"bo\" is for \"blue dot\"\n",
    "plt.plot(epochs, loss, 'r', label='Training loss')\n",
    "# b is for \"solid blue line\"\n",
    "plt.plot(epochs, val_loss, 'b', label='Validation loss')\n",
    "plt.title('Training and validation loss')\n",
    "# plt.xlabel('Epochs')\n",
    "plt.ylabel('Loss')\n",
    "plt.legend()\n",
    "\n",
    "plt.subplot(2, 1, 2)\n",
    "plt.plot(epochs, acc, 'r', label='Training acc')\n",
    "plt.plot(epochs, val_acc, 'b', label='Validation acc')\n",
    "plt.title('Training and validation accuracy')\n",
    "plt.xlabel('Epochs')\n",
    "plt.ylabel('Accuracy')\n",
    "plt.legend(loc='lower right')"
   ]
  },
  {
   "cell_type": "code",
   "execution_count": 25,
   "metadata": {},
   "outputs": [],
   "source": [
    "y_pred = np.argmax(classifier_model.predict(test_ds), axis=1)"
   ]
  },
  {
   "cell_type": "code",
   "execution_count": 26,
   "metadata": {},
   "outputs": [],
   "source": [
    "def plot_confusion_matrix(cm, classes,\n",
    "                          title='Confusion matrix',\n",
    "                          cmap=plt.cm.Blues):\n",
    "    \"\"\"\n",
    "    This function prints and plots the confusion matrix.\n",
    "    Normalization can be applied by setting `normalize=True`.\n",
    "    \"\"\"\n",
    "\n",
    "    cm = cm.astype('float') / cm.sum(axis=1)[:, np.newaxis]\n",
    "\n",
    "    plt.imshow(cm, interpolation='nearest', cmap = cmap)\n",
    "    plt.title(title, fontsize=20)\n",
    "    plt.colorbar()\n",
    "    tick_marks = np.arange(len(classes))\n",
    "    plt.xticks(tick_marks, classes, fontsize = 13)\n",
    "    plt.yticks(tick_marks, classes, fontsize = 13)\n",
    "\n",
    "    fmt = '.2f'\n",
    "    thresh = cm.max() / 2.\n",
    "    for i, j in itertools.product(range(cm.shape[0]), range(cm.shape[1])):\n",
    "        plt.text(j, i, format(cm[i, j], fmt),\n",
    "                 horizontalalignment = \"center\",\n",
    "                 color=\"white\" if cm[i, j] > thresh else \"black\")\n",
    "\n",
    "    plt.ylabel('True label', fontsize = 17)\n",
    "    plt.xlabel('Predicted label', fontsize = 17)"
   ]
  },
  {
   "cell_type": "code",
   "execution_count": 27,
   "metadata": {},
   "outputs": [
    {
     "data": {
      "image/png": "[encoded data removed]",
      "text/plain": [
       "<Figure size 432x432 with 2 Axes>"
      ]
     },
     "metadata": {
      "needs_background": "light"
     },
     "output_type": "display_data"
    }
   ],
   "source": [
    "cnf_matrix = confusion_matrix(y_test.to_list(), y_pred)\n",
    "plt.figure(figsize = (6,6))\n",
    "plot_confusion_matrix(cnf_matrix, classes = class_names.values(), title = \"Confusion matrix\")\n",
    "plt.show()"
   ]
  },
  {
   "cell_type": "code",
   "execution_count": 28,
   "metadata": {},
   "outputs": [
    {
     "name": "stdout",
     "output_type": "stream",
     "text": [
      "              precision    recall  f1-score   support\n",
      "\n",
      "           0       0.87      0.91      0.89       165\n",
      "           1       0.52      0.58      0.55        24\n",
      "           2       0.91      0.84      0.87       137\n",
      "\n",
      "    accuracy                           0.86       326\n",
      "   macro avg       0.77      0.78      0.77       326\n",
      "weighted avg       0.86      0.86      0.86       326\n",
      "\n"
     ]
    }
   ],
   "source": [
    "print(classification_report(list(y_test), y_pred))"
   ]
  },
  {
   "cell_type": "code",
   "execution_count": 29,
   "metadata": {},
   "outputs": [
    {
     "name": "stderr",
     "output_type": "stream",
     "text": [
      "WARNING:absl:Found untraced functions such as restored_function_body, restored_function_body, restored_function_body, restored_function_body, restored_function_body while saving (showing 5 of 310). These functions will not be directly callable after loading.\n",
      "WARNING:absl:Found untraced functions such as restored_function_body, restored_function_body, restored_function_body, restored_function_body, restored_function_body while saving (showing 5 of 310). These functions will not be directly callable after loading.\n"
     ]
    }
   ],
   "source": [
    "dataset_name = 'apple'\n",
    "saved_model_path = './{}_model'.format(dataset_name.replace('/', '_'))\n",
    "\n",
    "classifier_model.save(saved_model_path, include_optimizer=False)"
   ]
  },
  {
   "cell_type": "code",
   "execution_count": 34,
   "metadata": {},
   "outputs": [
    {
     "name": "stdout",
     "output_type": "stream",
     "text": [
      "Results from the model in memory:\n",
      "input: this is such an amazing movie! : score: [0.00374166 0.99136215 0.00489621]  : class: positive\n",
      "input: The movie was great!           : score: [0.00444103 0.9867165  0.00884237]  : class: positive\n",
      "input: The movie was meh.             : score: [0.22289412 0.6971022  0.08000365]  : class: positive\n",
      "input: The movie was okish.           : score: [0.07919228 0.8682619  0.0525458 ]  : class: positive\n",
      "input: The movie was terrible...      : score: [0.00729853 0.01884586 0.9738556 ]  : class: negative\n",
      "input: how can I login to app store?  : score: [0.89651954 0.02201089 0.08146952]  : class: neutral\n",
      "\n"
     ]
    }
   ],
   "source": [
    "def print_my_examples(inputs, results):\n",
    "  result_for_printing = \\\n",
    "    [f'input: {inputs[i]:<30} : score: {results[i]}  : class: {class_names[np.argmax(results[i])]}'\n",
    "                         for i in range(len(inputs))]\n",
    "  print(*result_for_printing, sep='\\n')\n",
    "  print()\n",
    "\n",
    "\n",
    "examples = [\n",
    "    'this is such an amazing movie!',\n",
    "    'The movie was great!',\n",
    "    'The movie was meh.',\n",
    "    'The movie was okish.',\n",
    "    'The movie was terrible...',\n",
    "    'how can I login to app store?'\n",
    "]\n",
    "if APPLY_CUSTOM_CLEANING:\n",
    "    examples = [clean_text(text) for text in examples]\n",
    "original_results = classifier_model(tf.constant(examples))\n",
    "\n",
    "print('Results from the model in memory:')\n",
    "print_my_examples(examples, original_results)"
   ]
  },
  {
   "cell_type": "code",
   "execution_count": null,
   "metadata": {},
   "outputs": [],
   "source": []
  }
 ],
 "metadata": {
  "kernelspec": {
   "display_name": "NLP",
   "language": "python",
   "name": "nlp"
  },
  "language_info": {
   "codemirror_mode": {
    "name": "ipython",
    "version": 3
   },
   "file_extension": ".py",
   "mimetype": "text/x-python",
   "name": "python",
   "nbconvert_exporter": "python",
   "pygments_lexer": "ipython3",
   "version": "3.8.3"
  }
 },
 "nbformat": 4,
 "nbformat_minor": 4
}
